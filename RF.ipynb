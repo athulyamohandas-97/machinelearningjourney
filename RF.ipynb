{
 "cells": [
  {
   "cell_type": "code",
   "execution_count": null,
   "id": "83e77bac-1afe-45b2-88b9-445095720f72",
   "metadata": {},
   "outputs": [],
   "source": [
    "!conda install -c anaconda git -y\n"
   ]
  },
  {
   "cell_type": "code",
   "execution_count": 3,
   "id": "b268a58e-b5bb-49cb-aaaa-34f574d1277b",
   "metadata": {},
   "outputs": [
    {
     "name": "stderr",
     "output_type": "stream",
     "text": [
      "'git' is not recognized as an internal or external command,\n",
      "operable program or batch file.\n"
     ]
    }
   ],
   "source": [
    "!git clone https://github.com/fastai/fastai1"
   ]
  },
  {
   "cell_type": "code",
   "execution_count": null,
   "id": "7173cc62-4fa1-46f1-ba3a-9579a7c1c0dc",
   "metadata": {},
   "outputs": [],
   "source": [
    "git clone https://github.com/fastai/fastai1\n",
    "cd fastai1\n",
    "conda create -n fastai python=3.6 anaconda\n",
    "conda env update\n",
    "source activate fastai"
   ]
  },
  {
   "cell_type": "code",
   "execution_count": 1,
   "id": "7db6f66b-8301-41ca-bf21-2ebb3486ea10",
   "metadata": {},
   "outputs": [],
   "source": [
    "%load_ext autoreload\n",
    "%autoreload 2\n",
    "\n",
    "%matplotlib inline"
   ]
  },
  {
   "cell_type": "code",
   "execution_count": 2,
   "id": "b4369025-1242-4cf1-9660-8101f29b0860",
   "metadata": {},
   "outputs": [
    {
     "ename": "ModuleNotFoundError",
     "evalue": "No module named 'fastai'",
     "output_type": "error",
     "traceback": [
      "\u001b[1;31m---------------------------------------------------------------------------\u001b[0m",
      "\u001b[1;31mModuleNotFoundError\u001b[0m                       Traceback (most recent call last)",
      "Cell \u001b[1;32mIn[2], line 1\u001b[0m\n\u001b[1;32m----> 1\u001b[0m \u001b[38;5;28;01mfrom\u001b[39;00m \u001b[38;5;21;01mfastai\u001b[39;00m\u001b[38;5;21;01m.\u001b[39;00m\u001b[38;5;21;01mimports\u001b[39;00m \u001b[38;5;28;01mimport\u001b[39;00m \u001b[38;5;241m*\u001b[39m\n\u001b[0;32m      2\u001b[0m \u001b[38;5;28;01mfrom\u001b[39;00m \u001b[38;5;21;01mfastai\u001b[39;00m\u001b[38;5;21;01m.\u001b[39;00m\u001b[38;5;21;01mstructured\u001b[39;00m \u001b[38;5;28;01mimport\u001b[39;00m \u001b[38;5;241m*\u001b[39m\n\u001b[0;32m      4\u001b[0m \u001b[38;5;28;01mfrom\u001b[39;00m \u001b[38;5;21;01mpandas_summary\u001b[39;00m \u001b[38;5;28;01mimport\u001b[39;00m DataFrameSummary\n",
      "\u001b[1;31mModuleNotFoundError\u001b[0m: No module named 'fastai'"
     ]
    }
   ],
   "source": [
    "from fastai.imports import *\n",
    "from fastai.structured import *\n",
    "\n",
    "from pandas_summary import DataFrameSummary\n",
    "from sklearn.ensemble import RandomForestRegressor, RandomForestClassifier\n",
    "from IPython.display import display\n",
    "\n",
    "from sklearn import metrics"
   ]
  },
  {
   "cell_type": "code",
   "execution_count": null,
   "id": "f685fd7e-7aed-4831-af7f-159220395b26",
   "metadata": {},
   "outputs": [],
   "source": [
    "PATH = \"/BlueBook/Train/\"\n"
   ]
  },
  {
   "cell_type": "code",
   "execution_count": null,
   "id": "e9252c52-415c-4bef-9662-b0be98738cdb",
   "metadata": {},
   "outputs": [],
   "source": [
    "!ls {PATH}\n"
   ]
  },
  {
   "cell_type": "code",
   "execution_count": null,
   "id": "20fb25b3-4b05-4249-a491-c4879fc95fb3",
   "metadata": {},
   "outputs": [],
   "source": [
    "df = pd.read_csv('Train.csv')\n"
   ]
  },
  {
   "cell_type": "code",
   "execution_count": null,
   "id": "7e1fd554-00bb-4d74-80d1-cc1b3e70f953",
   "metadata": {},
   "outputs": [],
   "source": []
  }
 ],
 "metadata": {
  "kernelspec": {
   "display_name": "Python [conda env:base] *",
   "language": "python",
   "name": "conda-base-py"
  },
  "language_info": {
   "codemirror_mode": {
    "name": "ipython",
    "version": 3
   },
   "file_extension": ".py",
   "mimetype": "text/x-python",
   "name": "python",
   "nbconvert_exporter": "python",
   "pygments_lexer": "ipython3",
   "version": "3.12.7"
  }
 },
 "nbformat": 4,
 "nbformat_minor": 5
}
